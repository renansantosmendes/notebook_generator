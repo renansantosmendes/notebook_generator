{
  "nbformat": 4,
  "nbformat_minor": 0,
  "metadata": {
    "colab": {
      "provenance": []
    },
    "kernelspec": {
      "name": "python3",
      "display_name": "Python 3"
    },
    "language_info": {
      "name": "python"
    }
  },
  "cells": [
    {
      "cell_type": "code",
      "execution_count": 1,
      "metadata": {
        "id": "zYmBRIFSbm8P"
      },
      "outputs": [],
      "source": [
        "%%capture --no-stderr\n",
        "!pip install langchain langchain-openai langchain-core langchain-community\n",
        "!pip install langsmith"
      ]
    },
    {
      "cell_type": "code",
      "source": [
        "import os\n",
        "import json\n",
        "from enum import Enum\n",
        "from google.colab import userdata\n",
        "from langchain_openai import ChatOpenAI\n",
        "from langchain_core.prompts import ChatPromptTemplate\n",
        "from pydantic import BaseModel, Field, field_validator"
      ],
      "metadata": {
        "id": "5S05iNKMcGq2"
      },
      "execution_count": 123,
      "outputs": []
    },
    {
      "cell_type": "code",
      "source": [
        "os.environ['OPENAI_API_KEY'] = userdata.get('OPENAI_KEY')\n",
        "os.environ[\"LANGCHAIN_TRACING_V2\"] = \"true\"\n",
        "os.environ[\"LANGCHAIN_ENDPOINT\"] = \"https://api.smith.langchain.com\"\n",
        "os.environ[\"LANGCHAIN_API_KEY\"] = userdata.get('LANGSMITH_KEY')\n",
        "os.environ[\"LANGCHAIN_PROJECT\"] = \"notebook-creation-langchain\""
      ],
      "metadata": {
        "id": "MXsZMDPmcI5M"
      },
      "execution_count": 3,
      "outputs": []
    },
    {
      "cell_type": "code",
      "source": [
        "llm = ChatOpenAI(model=\"gpt-4.1-nano\")"
      ],
      "metadata": {
        "id": "lL397wzBbw3N"
      },
      "execution_count": 4,
      "outputs": []
    },
    {
      "cell_type": "code",
      "source": [
        "section_topics = \"\"\"\n",
        "**Introdução ao NumPy e Pandas**\n",
        "   - Apresentação das bibliotecas NumPy e Pandas\n",
        "   - Arrays NumPy e operações vetorizadas\n",
        "   - Estruturas de dados: Series e DataFrame\n",
        "   - Leitura de arquivos CSV\n",
        "   - Indexação, filtros e operações com colunas\"\"\""
      ],
      "metadata": {
        "id": "pDV3t6BSZE33"
      },
      "execution_count": 10,
      "outputs": []
    },
    {
      "cell_type": "code",
      "source": [
        "section_topics_prompt = \"\"\"\n",
        "#################### Contexto ####################\n",
        "\n",
        "Você é um assistente para a geração de conteúdo, seu papel é separar todos\n",
        "os tópicos do conteúdo de uma seção apresentada no texto a seguir em uma lista de tópicos.\n",
        "\n",
        "{section_topics}\n",
        "\"\"\""
      ],
      "metadata": {
        "id": "uL705SSzFg1i"
      },
      "execution_count": 11,
      "outputs": []
    },
    {
      "cell_type": "code",
      "source": [
        "class Topic(BaseModel):\n",
        "    text: str = Field(description='content of topic text string')\n",
        "\n",
        "class SubTopic(BaseModel):\n",
        "    text: str = Field(description='content of subtopic text string')\n",
        "\n",
        "class SplittedSubTopic(BaseModel):\n",
        "    new_subtopics: list[SubTopic] = Field(description=\"organized subtopic content\")"
      ],
      "metadata": {
        "id": "kAcxxdu-HbZl"
      },
      "execution_count": 99,
      "outputs": []
    },
    {
      "cell_type": "code",
      "source": [
        "class SectionContent(BaseModel):\n",
        "    topics: list[Topic] = Field(description=\"list of topics in the section\")"
      ],
      "metadata": {
        "id": "PBh2ZH3pIvGM"
      },
      "execution_count": 67,
      "outputs": []
    },
    {
      "cell_type": "code",
      "source": [
        "section_topics_chain = ChatPromptTemplate.from_template(section_topics_prompt) | llm.with_structured_output(SectionContent)"
      ],
      "metadata": {
        "id": "k19RJfOHJje6"
      },
      "execution_count": 68,
      "outputs": []
    },
    {
      "cell_type": "code",
      "source": [
        "section_topics_response = section_topics_chain.invoke(\n",
        "    {\n",
        "        \"section_topics\": section_topics\n",
        "    }\n",
        ")"
      ],
      "metadata": {
        "id": "2woB_rhcJWBj"
      },
      "execution_count": 69,
      "outputs": []
    },
    {
      "cell_type": "code",
      "source": [
        "section_topics_response.topics[0].text"
      ],
      "metadata": {
        "colab": {
          "base_uri": "https://localhost:8080/",
          "height": 35
        },
        "id": "6ZWDnqIhJV-x",
        "outputId": "414e1fc8-4699-4850-ec70-dc81b711cc27"
      },
      "execution_count": 71,
      "outputs": [
        {
          "output_type": "execute_result",
          "data": {
            "text/plain": [
              "'Apresentação das bibliotecas NumPy e Pandas'"
            ],
            "application/vnd.google.colaboratory.intrinsic+json": {
              "type": "string"
            }
          },
          "metadata": {},
          "execution_count": 71
        }
      ]
    },
    {
      "cell_type": "code",
      "source": [
        "subtopics_prompt = \"\"\"\n",
        "#################### Contexto ####################\n",
        "\n",
        "Você é um assistente para a geração de conteúdo, seu papel é explicar em detalhes\n",
        "o tópico apresentado a seguir para que um notebook seja criado explicando\n",
        "posteriormente o conteúdo.\n",
        "\n",
        "Explique detalhadamente o seguinte tópico:\n",
        "{topic}\n",
        "\n",
        "Siga as seguintes instruções:\n",
        "- Apresente apenas o conteúdo de forma clara\n",
        "- Não faça conclusões sobre o conteúdo criado\n",
        "- Não faça interação com o leitor do conteúdo\n",
        "- Se o conteúdo for para introdução de algum tema, não será necessário gerar\n",
        " código em Python para exemplificar\n",
        "\"\"\""
      ],
      "metadata": {
        "id": "ztUKvGofKnQs"
      },
      "execution_count": 88,
      "outputs": []
    },
    {
      "cell_type": "code",
      "source": [
        "class TopicTextContent(BaseModel):\n",
        "    text: str = Field(description=\"full content explaining the topic\")"
      ],
      "metadata": {
        "id": "9O5pMqXhN6yZ"
      },
      "execution_count": 89,
      "outputs": []
    },
    {
      "cell_type": "code",
      "source": [
        "subtopics_chain = ChatPromptTemplate.from_template(subtopics_prompt) | llm.with_structured_output(TopicTextContent)"
      ],
      "metadata": {
        "id": "G1suc9ctMEPf"
      },
      "execution_count": 90,
      "outputs": []
    },
    {
      "cell_type": "code",
      "source": [
        "subtopics_response = subtopics_chain.invoke(\n",
        "    {\n",
        "        \"topic\": section_topics_response.topics[1].text\n",
        "    }\n",
        ")"
      ],
      "metadata": {
        "id": "evIjGcc5MU3M"
      },
      "execution_count": 94,
      "outputs": []
    },
    {
      "cell_type": "code",
      "source": [
        "section_topics_response.topics[1].text"
      ],
      "metadata": {
        "colab": {
          "base_uri": "https://localhost:8080/",
          "height": 35
        },
        "id": "V1dC1z1OPwX5",
        "outputId": "74110cc0-8b4e-44ac-bdbf-f7cb807a92e5"
      },
      "execution_count": 93,
      "outputs": [
        {
          "output_type": "execute_result",
          "data": {
            "text/plain": [
              "'Arrays NumPy e operações vetorizadas'"
            ],
            "application/vnd.google.colaboratory.intrinsic+json": {
              "type": "string"
            }
          },
          "metadata": {},
          "execution_count": 93
        }
      ]
    },
    {
      "cell_type": "code",
      "source": [
        "print(subtopics_response.text)"
      ],
      "metadata": {
        "colab": {
          "base_uri": "https://localhost:8080/"
        },
        "id": "kGRFnB6lOjuf",
        "outputId": "ce29ff29-776a-48af-d94a-db6d941d51bb"
      },
      "execution_count": 95,
      "outputs": [
        {
          "output_type": "stream",
          "name": "stdout",
          "text": [
            "Arrays NumPy são estruturas de dados multidimensionais altamente eficientes para armazenamento e manipulação de grandes conjuntos de dados numéricos em Python. São semelhantes às listas, mas oferecem vantagens significativas em termos de desempenho e funcionalidade, principalmente no contexto de operações matemáticas e científicas.\n",
            "\n",
            "Operações vetorizadas referem-se ao processamento de arrays NumPy usando operações elementares que atuam simultaneamente sobre todos os elementos do array, ao contrário de loops tradicionais. Essa abordagem aproveita otimizações de baixo nível e SIMD (Single Instruction, Multiple Data), o que resulta em execução mais rápida e código mais conciso.\n",
            "\n",
            "Por exemplo, em vez de iterar manualmente por elementos para realizar somas ou multiplicações entre arrays, operações vetorizadas permitem executar tais operações de forma direta e eficiente. Isso é possível porque o NumPy sobrecarrega operadores matemáticos comuns, aplicando-os elemento por elemento de maneira otimizada.\n",
            "\n",
            "As operações vetorizadas em arrays NumPy incluem soma, subtração, multiplicação, divisão, exponenciação e outras funções matemáticas como logaritmos, funções trigonométricas e estatísticas. Além disso, é possível realizar operações entre arrays de diferentes formas e tamanhos, mediante o uso de broadcasting, que é uma técnica para aplicar operações compatíveis mesmo quando as dimensões entre arrays não escalam exatamente.\n",
            "\n",
            "Essas características fazem do NumPy uma ferramenta fundamental para tarefas de análise de dados, machine learning, processamento de sinais, simulações numéricas, entre outras áreas que envolvem cálculos matemáticos com grandes conjuntos de dados.\n"
          ]
        }
      ]
    },
    {
      "cell_type": "code",
      "source": [
        "splitted_content_prompt = \"\"\"\n",
        "#################### Contexto ####################\n",
        "\n",
        "Você é um assistente para a geração de conteúdo, seu papel é quebrar o conteúdo\n",
        "textual de um tópico em uma lista de subtópicos para melhor compreensão do conteúdo.\n",
        "\n",
        "Organize o conteúdo da melhor maneira possível.\n",
        "\n",
        "O conteúdo textual a ser organizado é o seguinte:\n",
        "{textual_content}\n",
        "\"\"\""
      ],
      "metadata": {
        "id": "cOaoi1KLRRis"
      },
      "execution_count": 96,
      "outputs": []
    },
    {
      "cell_type": "code",
      "source": [
        "splitted_content_chain = ChatPromptTemplate.from_template(splitted_content_prompt) | llm.with_structured_output(SplittedSubTopic)"
      ],
      "metadata": {
        "id": "3bGhp6FLR9An"
      },
      "execution_count": 100,
      "outputs": []
    },
    {
      "cell_type": "code",
      "source": [
        "splitted_content_response = splitted_content_chain.invoke(\n",
        "    {\n",
        "        \"textual_content\": subtopics_response.text\n",
        "    }\n",
        ")"
      ],
      "metadata": {
        "id": "vitxYOCjSnBc"
      },
      "execution_count": 101,
      "outputs": []
    },
    {
      "cell_type": "code",
      "source": [
        "splitted_content_response.new_subtopics"
      ],
      "metadata": {
        "colab": {
          "base_uri": "https://localhost:8080/"
        },
        "id": "_7-pgNFBTQyj",
        "outputId": "281a1ebd-9b1c-49f0-b52d-1d921c093025"
      },
      "execution_count": 103,
      "outputs": [
        {
          "output_type": "execute_result",
          "data": {
            "text/plain": [
              "[SubTopic(text='Introdução aos Arrays NumPy'),\n",
              " SubTopic(text='Vantagens de Arrays NumPy em relação às listas'),\n",
              " SubTopic(text='Operações vetorizadas em arrays NumPy'),\n",
              " SubTopic(text='Exemplos de operações vetorizadas (soma, subtração, multiplicação, divisão, exponenciação)'),\n",
              " SubTopic(text='Funções matemáticas em operações vetorizadas (logaritmos, funções trigonométricas, estatísticas)'),\n",
              " SubTopic(text='Uso de broadcasting para operações entre arrays de diferentes formas e tamanhos'),\n",
              " SubTopic(text='Aplicações práticas de arrays NumPy e operações vetorizadas')]"
            ]
          },
          "metadata": {},
          "execution_count": 103
        }
      ]
    },
    {
      "cell_type": "code",
      "source": [
        "prompt = \"\"\"\n",
        "#################### Contexto ####################\n",
        "\n",
        "Você é um assistente para a geração de conteúdo, seu papel é descrever\n",
        "no formato de subtópicos os tópicos apresentados a seguir para que uma lista\n",
        "de exercícios prática seja criada para a fixação do conteúdo da disciplina.\n",
        "\n",
        "Enumere os principais e mais importantes subtópicos para o conteúdo a seguir:\n",
        "{topics}\n",
        "\"\"\""
      ],
      "metadata": {
        "id": "1f3rg17JYraP"
      },
      "execution_count": null,
      "outputs": []
    },
    {
      "cell_type": "code",
      "source": [
        "template = ChatPromptTemplate.from_template(prompt)"
      ],
      "metadata": {
        "id": "OBXm2dpUbnt5"
      },
      "execution_count": null,
      "outputs": []
    },
    {
      "cell_type": "code",
      "source": [
        "chain = template | llm"
      ],
      "metadata": {
        "id": "7vmJD2yjcCWa"
      },
      "execution_count": null,
      "outputs": []
    },
    {
      "cell_type": "code",
      "source": [
        "response = chain.invoke(\n",
        "    {\n",
        "        \"topics\": section_topics\n",
        "    }\n",
        ")"
      ],
      "metadata": {
        "id": "bb5V6C64b24j"
      },
      "execution_count": null,
      "outputs": []
    },
    {
      "cell_type": "code",
      "source": [
        "# print(response.content)"
      ],
      "metadata": {
        "id": "1SLkQGmKb-4o"
      },
      "execution_count": 25,
      "outputs": []
    },
    {
      "cell_type": "markdown",
      "source": [
        "#**Criação do notebook .pynb**"
      ],
      "metadata": {
        "id": "fduhodtcLZrU"
      }
    },
    {
      "cell_type": "code",
      "source": [
        "class CellTypes(Enum):\n",
        "    markdown = 'markdown'\n",
        "    code = 'code'"
      ],
      "metadata": {
        "id": "UtmD5N5MD65M"
      },
      "execution_count": 104,
      "outputs": []
    },
    {
      "cell_type": "code",
      "source": [
        "class NotebookCell(BaseModel):\n",
        "    #metadata: dict = Field(description='notebook cell metadata')\n",
        "    cell_type: CellTypes = Field(description='notebook cell type')"
      ],
      "metadata": {
        "id": "iCV8DjhqVfFE"
      },
      "execution_count": 105,
      "outputs": []
    },
    {
      "cell_type": "code",
      "source": [
        "class CodeCell(NotebookCell):\n",
        "    source: list[str] = Field(\n",
        "        description='List of Python code lines to exemply the theorical content'\n",
        "        )\n",
        "\n",
        "    @field_validator('source')\n",
        "    @classmethod\n",
        "    def validate_and_split_strings(cls, value: list[str]) -> list[str]:\n",
        "        \"\"\"\n",
        "        Validates if the input is a list with a single string containing newlines.\n",
        "        If so, splits the string by newlines and returns the resulting list.\n",
        "        \"\"\"\n",
        "        if len(value) == 1 and '\\n' in value[0]:\n",
        "            return [line + '\\n' for line in value[0].split('\\n') if len(line) > 0]\n",
        "\n",
        "        return value\n",
        "\n",
        "\n",
        "class MarkdownCell(NotebookCell):\n",
        "    source: list[str] = Field(\n",
        "        description='List containing topic name and explanation about what it is.'\n",
        "        )\n",
        "\n",
        "    @field_validator('source')\n",
        "    @classmethod\n",
        "    def validate_and_split_strings(cls, value: list[str]) -> list[str]:\n",
        "        \"\"\"\n",
        "        Validates if the input is a list with a single string containing newlines.\n",
        "        If so, splits the string by newlines and returns the resulting list.\n",
        "        \"\"\"\n",
        "        if len(value) == 1 and '\\n' in value[0]:\n",
        "            return [line + '\\n' for line in value[0].split('\\n') if len(line) > 0]\n",
        "\n",
        "        return value\n",
        "\n",
        "class Content(BaseModel):\n",
        "    markdown: MarkdownCell = Field(description='markdown text explaining the content')\n",
        "    code: CodeCell = Field(description='python code to exemplify the content')"
      ],
      "metadata": {
        "id": "HR41B-aREW5X"
      },
      "execution_count": 106,
      "outputs": []
    },
    {
      "cell_type": "code",
      "source": [
        "prompt_notebook = \"\"\"\n",
        "#################### Contexto ####################\n",
        "\n",
        "Você é um assistente para a criação de conteúdos didáticos para uma disciplina.\n",
        "Seu papel é gerar o conteúdo teórico e o código em python para serem adicionados\n",
        "em um notebook como forma de exemplificar o que o aluno precisa aprender.\n",
        "\n",
        "Gere sempre um par de células, sendo uma célula em markdown com o conteúdo explicativo\n",
        "e outra célula com o código python, exemplificando claramente o conteúdo.\n",
        "\n",
        "Orientações:\n",
        "- Para as células em markdown adicione sempre um título resumindo o tema abordado em poucas palavras\n",
        "- Use # para definir o título e coloque em negrito\n",
        "- A explicação do conteudo coloque como um texto normal, podendo usar listas e/ou bullet point\n",
        "- Gere o texto de explicação sempre em {language}\n",
        "- Para as células de código python, gere um código que exemplifique ou explique o tópico abordado\n",
        "- Todos os códigos deverão ser gerados em inglês e com nomes significativos para as variáveis\n",
        "- Se algum comentário for feito para explicar o código, adicione um caracter de quebra linha extra para separar\n",
        "o comentário do código gerado\n",
        "\n",
        "Gere as células em markdown e código python para o seguinte tópico {topic} que pertence ao tema {content}\n",
        "\"\"\""
      ],
      "metadata": {
        "id": "-crxe99GGQGy"
      },
      "execution_count": 125,
      "outputs": []
    },
    {
      "cell_type": "code",
      "source": [
        "prompt_notebook_template = ChatPromptTemplate.from_template(prompt_notebook)"
      ],
      "metadata": {
        "id": "sPyWSc_eK_Ap"
      },
      "execution_count": 126,
      "outputs": []
    },
    {
      "cell_type": "code",
      "source": [
        "structured_llm = llm.with_structured_output(Content)"
      ],
      "metadata": {
        "id": "7ioqSXhVLLhb"
      },
      "execution_count": 127,
      "outputs": []
    },
    {
      "cell_type": "code",
      "source": [
        "notebook_chain = prompt_notebook_template | structured_llm"
      ],
      "metadata": {
        "id": "f4OvaEFtLIlw"
      },
      "execution_count": 128,
      "outputs": []
    },
    {
      "cell_type": "code",
      "source": [
        "print(section_topics_response.topics[1].text)\n",
        "print(splitted_content_response.new_subtopics[1].text)"
      ],
      "metadata": {
        "colab": {
          "base_uri": "https://localhost:8080/"
        },
        "id": "f1JCK1huULr4",
        "outputId": "1e18b556-07dc-4e53-8041-bce9db410c1c"
      },
      "execution_count": 129,
      "outputs": [
        {
          "output_type": "stream",
          "name": "stdout",
          "text": [
            "Arrays NumPy e operações vetorizadas\n",
            "Vantagens de Arrays NumPy em relação às listas\n"
          ]
        }
      ]
    },
    {
      "cell_type": "code",
      "source": [
        "response = notebook_chain.invoke(\n",
        "    {\n",
        "        \"language\": \"pt-BR\",\n",
        "        \"content\": section_topics_response.topics[1].text,\n",
        "        \"topic\": splitted_content_response.new_subtopics[1].text\n",
        "    }\n",
        ")"
      ],
      "metadata": {
        "id": "w2I3UuyzMW7_"
      },
      "execution_count": 130,
      "outputs": []
    },
    {
      "cell_type": "code",
      "source": [
        "response.markdown.source"
      ],
      "metadata": {
        "colab": {
          "base_uri": "https://localhost:8080/"
        },
        "id": "Fyewsunl7DRD",
        "outputId": "e881e336-2901-471f-c531-e8392c774aa0"
      },
      "execution_count": 131,
      "outputs": [
        {
          "output_type": "execute_result",
          "data": {
            "text/plain": [
              "['# **Vantagens de Arrays NumPy em relação às listas**\\n',\n",
              " 'Arrays NumPy oferecem várias vantagens em comparação com listas tradicionais do Python, especialmente ao trabalhar com operações matemáticas e científicas:\\n',\n",
              " '- **Operações vetorizadas:** Permitem realizar operações em toda a matriz de uma só vez, sem a necessidade de loops explícitos.\\n',\n",
              " '- **Desempenho melhorado:** São otimizados em linguagem C, o que resulta em execuções mais rápidas para operações matemáticas e manipulação de grandes conjuntos de dados.\\n',\n",
              " '- **Menor consumo de memória:** Utilizam menos memória do que listas tradicionais para armazenar os mesmos dados, devido ao seu formato compacto.\\n',\n",
              " '- **Funcionalidades específicas:** Oferecem diversas funções matemáticas e estatísticas que facilitam análises complexas.\\n',\n",
              " 'A seguir, um exemplo comparando a realização de uma operação de soma em listas e arrays NumPy.\\n']"
            ]
          },
          "metadata": {},
          "execution_count": 131
        }
      ]
    },
    {
      "cell_type": "code",
      "source": [
        "response.code.source"
      ],
      "metadata": {
        "colab": {
          "base_uri": "https://localhost:8080/"
        },
        "id": "_p3TRLNB7U8C",
        "outputId": "3b2343a4-355d-48cc-eda2-935bfb34fdd7"
      },
      "execution_count": 132,
      "outputs": [
        {
          "output_type": "execute_result",
          "data": {
            "text/plain": [
              "['import numpy as np\\n',\n",
              " '# Criando uma lista de números\\n',\n",
              " 'list_numbers = [1, 2, 3, 4, 5]\\n',\n",
              " '# Criando um array NumPy a partir da lista\\n',\n",
              " 'array_numbers = np.array([1, 2, 3, 4, 5])\\n',\n",
              " '# Soma de 10 a todos os elementos usando listas (com loop explícito)\\n',\n",
              " 'sum_list = [x + 10 for x in list_numbers]\\n',\n",
              " '# Soma de 10 a todos os elementos usando NumPy (operações vetorizadas)\\n',\n",
              " 'sum_array = array_numbers + 10\\n',\n",
              " 'print(\"Soma usando listas:\", sum_list)\\n',\n",
              " 'print(\"Soma usando NumPy:\", sum_array)\\n']"
            ]
          },
          "metadata": {},
          "execution_count": 132
        }
      ]
    },
    {
      "cell_type": "code",
      "source": [
        "generated_cells = {\n",
        "    \"cells\": [\n",
        "        {\n",
        "            \"cell_type\": \"markdown\",\n",
        "            \"source\":\n",
        "                response.markdown.source\n",
        "            ,\n",
        "            \"metadata\": {\n",
        "                \"id\": \"\"\n",
        "            }\n",
        "        },\n",
        "        {\n",
        "            \"cell_type\": \"code\",\n",
        "            \"execution_count\": None,\n",
        "            \"metadata\": {\n",
        "                \"id\": \"\"\n",
        "            },\n",
        "            \"outputs\": [],\n",
        "            \"source\": response.code.source\n",
        "        }\n",
        "        ]\n",
        "}"
      ],
      "metadata": {
        "id": "bXDacPy9OwDT"
      },
      "execution_count": 149,
      "outputs": []
    },
    {
      "cell_type": "code",
      "source": [
        "print(json.dumps(generated_cells[\"cells\"], indent=4, ensure_ascii=False))"
      ],
      "metadata": {
        "id": "en9IrKzNZwiK"
      },
      "execution_count": null,
      "outputs": []
    },
    {
      "cell_type": "code",
      "source": [
        "import uuid\n",
        "from google.colab import drive\n",
        "drive.mount('/content/drive')"
      ],
      "metadata": {
        "colab": {
          "base_uri": "https://localhost:8080/"
        },
        "id": "h7Wgtb32UzpH",
        "outputId": "04a8efbb-f04c-4319-af04-c1b0618a9d76"
      },
      "execution_count": 146,
      "outputs": [
        {
          "output_type": "stream",
          "name": "stdout",
          "text": [
            "Drive already mounted at /content/drive; to attempt to forcibly remount, call drive.mount(\"/content/drive\", force_remount=True).\n"
          ]
        }
      ]
    },
    {
      "cell_type": "code",
      "source": [
        "path = '/content/drive/MyDrive/01 - PUC/2025-01/Python para DS/notebooks'"
      ],
      "metadata": {
        "id": "UOB-k7RJZU_O"
      },
      "execution_count": 147,
      "outputs": []
    },
    {
      "cell_type": "code",
      "source": [
        "os.listdir(path)"
      ],
      "metadata": {
        "colab": {
          "base_uri": "https://localhost:8080/"
        },
        "id": "tvLK3DH3YhIE",
        "outputId": "5a9b172a-0b6c-4bec-d605-eb7b393e183d"
      },
      "execution_count": 164,
      "outputs": [
        {
          "output_type": "execute_result",
          "data": {
            "text/plain": [
              "['notebook_b20c6afedd2a4b96a4321cba0d1c3c7f.ipynb']"
            ]
          },
          "metadata": {},
          "execution_count": 164
        }
      ]
    },
    {
      "cell_type": "code",
      "source": [
        "notebook = {\n",
        "  \"nbformat\": 4,\n",
        "  \"nbformat_minor\": 0,\n",
        "  \"metadata\": {\n",
        "    \"colab\": {\n",
        "      \"provenance\": []\n",
        "    },\n",
        "    \"kernelspec\": {\n",
        "      \"name\": \"python3\",\n",
        "      \"display_name\": \"Python 3\"\n",
        "    },\n",
        "    \"language_info\": {\n",
        "      \"name\": \"python\"\n",
        "    }\n",
        "  },\n",
        "  \"cells\": generated_cells[\"cells\"]\n",
        "}"
      ],
      "metadata": {
        "id": "sU6cpzwrYrQG"
      },
      "execution_count": 152,
      "outputs": []
    },
    {
      "cell_type": "code",
      "source": [
        "with open(\n",
        "    file=os.path.join(path, f\"notebook_{uuid.uuid4().hex}.ipynb\"),\n",
        "    mode=\"w\",\n",
        "    encoding=\"utf-8\"\n",
        "    ) as f:\n",
        "\n",
        "    json.dump(notebook, f, indent=4, ensure_ascii=False)"
      ],
      "metadata": {
        "id": "g40n-ogLaS1r"
      },
      "execution_count": 163,
      "outputs": []
    }
  ]
}