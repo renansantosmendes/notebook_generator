{
  "nbformat": 4,
  "nbformat_minor": 0,
  "metadata": {
    "colab": {
      "provenance": []
    },
    "kernelspec": {
      "name": "python3",
      "display_name": "Python 3"
    },
    "language_info": {
      "name": "python"
    }
  },
  "cells": [
    {
      "cell_type": "code",
      "execution_count": 1,
      "metadata": {
        "id": "zYmBRIFSbm8P"
      },
      "outputs": [],
      "source": [
        "%%capture --no-stderr\n",
        "!pip install langchain langchain-openai langchain-core langchain-community\n",
        "!pip install langsmith"
      ]
    },
    {
      "cell_type": "code",
      "source": [
        "import os\n",
        "from google.colab import userdata"
      ],
      "metadata": {
        "id": "5S05iNKMcGq2"
      },
      "execution_count": 2,
      "outputs": []
    },
    {
      "cell_type": "code",
      "source": [
        "os.environ['OPENAI_API_KEY'] = userdata.get('OPENAI_KEY')\n",
        "os.environ[\"LANGCHAIN_TRACING_V2\"] = \"true\"\n",
        "os.environ[\"LANGCHAIN_ENDPOINT\"] = \"https://api.smith.langchain.com\"\n",
        "os.environ[\"LANGCHAIN_API_KEY\"] = userdata.get('LANGSMITH_KEY')\n",
        "os.environ[\"LANGCHAIN_PROJECT\"] = \"notebook-creation-langchain\""
      ],
      "metadata": {
        "id": "MXsZMDPmcI5M"
      },
      "execution_count": 3,
      "outputs": []
    },
    {
      "cell_type": "code",
      "source": [
        "from langchain_openai import ChatOpenAI\n",
        "\n",
        "llm = ChatOpenAI(model=\"gpt-4.1-nano\")"
      ],
      "metadata": {
        "id": "lL397wzBbw3N"
      },
      "execution_count": 4,
      "outputs": []
    },
    {
      "cell_type": "code",
      "source": [
        "topics = \"dicionarios, listas e tuplas\""
      ],
      "metadata": {
        "id": "pDV3t6BSZE33"
      },
      "execution_count": 5,
      "outputs": []
    },
    {
      "cell_type": "code",
      "source": [
        "prompt = \"\"\"\n",
        "#################### Contexto ####################\n",
        "\n",
        "Você é um assistente para a geração de conteúdo, seu papel é descrever\n",
        "no formato de subtópicos os tópicos apresentados a seguir para que uma lista\n",
        "de exercícios prática seja criada para a fixação do conteúdo da disciplina.\n",
        "\n",
        "Enumere os principais e mais importantes subtópicos para o conteúdo a seguir:\n",
        "{topics}\n",
        "\"\"\""
      ],
      "metadata": {
        "id": "1f3rg17JYraP"
      },
      "execution_count": 6,
      "outputs": []
    },
    {
      "cell_type": "code",
      "source": [
        "from langchain_core.prompts import ChatPromptTemplate"
      ],
      "metadata": {
        "id": "VEpYSK0KbAnV"
      },
      "execution_count": 7,
      "outputs": []
    },
    {
      "cell_type": "code",
      "source": [
        "template = ChatPromptTemplate.from_template(prompt)"
      ],
      "metadata": {
        "id": "OBXm2dpUbnt5"
      },
      "execution_count": 8,
      "outputs": []
    },
    {
      "cell_type": "code",
      "source": [
        "chain = template | llm"
      ],
      "metadata": {
        "id": "7vmJD2yjcCWa"
      },
      "execution_count": 9,
      "outputs": []
    },
    {
      "cell_type": "code",
      "source": [
        "response = chain.invoke(\n",
        "    {\n",
        "        \"topics\": topics\n",
        "    }\n",
        ")"
      ],
      "metadata": {
        "id": "bb5V6C64b24j"
      },
      "execution_count": 10,
      "outputs": []
    },
    {
      "cell_type": "code",
      "source": [
        "print(response.content)"
      ],
      "metadata": {
        "colab": {
          "base_uri": "https://localhost:8080/"
        },
        "id": "1SLkQGmKb-4o",
        "outputId": "9b51350d-c308-406a-8659-2ba301517e42"
      },
      "execution_count": 13,
      "outputs": [
        {
          "output_type": "stream",
          "name": "stdout",
          "text": [
            "Claro! Aqui estão os principais e mais importantes subtópicos para a disciplina de **Dicionários, Listas e Tuplas**:\n",
            "\n",
            "### Dicionários\n",
            "- Definição e conceito de dicionários\n",
            "- Estrutura de um dicionário (chave-valor)\n",
            "- Criando dicionários (literais e funções construtoras)\n",
            "- Acessando elementos (por chaves)\n",
            "- Adicionando, modificando e removendo itens\n",
            "- Métodos de dicionários (keys(), values(), items(), get(), pop(), update(), clear())\n",
            "- Iterando sobre dicionários\n",
            "- Uso prático de dicionários (exemplos de aplicações)\n",
            "\n",
            "### Listas\n",
            "- Definição e conceito de listas\n",
            "- Criando listas (literais e funções construtoras)\n",
            "- Acessando elementos (por índice)\n",
            "- Modificando elementos\n",
            "- Métodos de listas (append(), insert(), remove(), pop(), sort(), reverse(), extend(), clear())\n",
            "- Fatiamento de listas\n",
            "- Iterando sobre listas\n",
            "- Uso prático de listas (exemplos de aplicações)\n",
            "\n",
            "### Tuplas\n",
            "- Definição e conceito de tuplas\n",
            "- Diferenças entre tuplas e listas\n",
            "- Criando tuplas (literais e funções construtoras)\n",
            "- Acessando elementos da tupla\n",
            "- Imutabilidade das tuplas\n",
            "- Métodos disponíveis (contar(), índice())\n",
            "- Uso prático de tuplas (exemplos de aplicações, armazenamento de dados imutáveis)\n",
            "\n",
            "### Relações e diferenças entre dicionários, listas e tuplas\n",
            "- Quando usar cada estrutura\n",
            "- Vantagens e limitações de cada uma\n",
            "- Convencionalidades de uso\n",
            "\n",
            "### Exercícios práticos\n",
            "- Criação de estruturas de dados\n",
            "- Manipulação de dicionários, listas e tuplas\n",
            "- Trabalhar com dados complexos usando essas estruturas\n"
          ]
        }
      ]
    },
    {
      "cell_type": "code",
      "source": [
        "from pydantic import BaseModel, Field, field_validator"
      ],
      "metadata": {
        "id": "LQSl1NunCRJR"
      },
      "execution_count": 29,
      "outputs": []
    },
    {
      "cell_type": "code",
      "source": [
        "from enum import Enum"
      ],
      "metadata": {
        "id": "FTsJYSrKDnuE"
      },
      "execution_count": 12,
      "outputs": []
    },
    {
      "cell_type": "code",
      "source": [
        "class CellTypes(Enum):\n",
        "    markdown = 'markdown'\n",
        "    code = 'code'"
      ],
      "metadata": {
        "id": "UtmD5N5MD65M"
      },
      "execution_count": 13,
      "outputs": []
    },
    {
      "cell_type": "code",
      "source": [
        "class NotebookCell(BaseModel):\n",
        "    #metadata: dict = Field(description='notebook cell metadata')\n",
        "    cell_type: CellTypes = Field(description='notebook cell type')"
      ],
      "metadata": {
        "id": "iCV8DjhqVfFE"
      },
      "execution_count": 14,
      "outputs": []
    },
    {
      "cell_type": "code",
      "source": [
        "class CodeCell(NotebookCell):\n",
        "    source: list[str] = Field(\n",
        "        description='List of Python code lines to exemply the theorical content'\n",
        "        )\n",
        "\n",
        "    @field_validator('source')\n",
        "    @classmethod\n",
        "    def validate_and_split_strings(cls, value: list[str]) -> list[str]:\n",
        "        \"\"\"\n",
        "        Validates if the input is a list with a single string containing newlines.\n",
        "        If so, splits the string by newlines and returns the resulting list.\n",
        "        \"\"\"\n",
        "        if len(value) == 1 and '\\n' in value[0]:\n",
        "            return [line + '\\n' for line in value[0].split('\\n') if len(line) > 0]\n",
        "\n",
        "        return value\n",
        "\n",
        "\n",
        "class MarkdownCell(NotebookCell):\n",
        "    source: list[str] = Field(\n",
        "        description='List containing topic name and explanation about what it is.'\n",
        "        )\n",
        "\n",
        "    @field_validator('source')\n",
        "    @classmethod\n",
        "    def validate_and_split_strings(cls, value: list[str]) -> list[str]:\n",
        "        \"\"\"\n",
        "        Validates if the input is a list with a single string containing newlines.\n",
        "        If so, splits the string by newlines and returns the resulting list.\n",
        "        \"\"\"\n",
        "        if len(value) == 1 and '\\n' in value[0]:\n",
        "            return [line + '\\n' for line in value[0].split('\\n') if len(line) > 0]\n",
        "\n",
        "        return value\n",
        "\n",
        "class Content(BaseModel):\n",
        "    markdown: MarkdownCell = Field(description='markdown text explaining the content')\n",
        "    code: CodeCell = Field(description='python code to exemplify the content')"
      ],
      "metadata": {
        "id": "HR41B-aREW5X"
      },
      "execution_count": 83,
      "outputs": []
    },
    {
      "cell_type": "code",
      "source": [
        "prompt_notebook = \"\"\"\n",
        "#################### Contexto ####################\n",
        "\n",
        "Você é um assistente para a criação de conteúdos didáticos para uma disciplina.\n",
        "Seu papel é gerar o conteúdo teórico e o código em python para serem adicionados\n",
        "em um notebook como forma de exemplificar o que o aluno precisa aprender.\n",
        "\n",
        "Gere sempre um par de células, sendo uma célula em markdown com o conteúdo explicativo\n",
        "e outra célula com o código python, exemplificando claramente o conteúdo.\n",
        "\n",
        "Orientações:\n",
        "- Para as células em markdown adicione sempre um título resumindo o tema abordado em poucas palavras\n",
        "- Use # para definir o título e coloque em negrito\n",
        "- A explicação do conteudo coloque como um texto normal, podendo usar listas e/ou bullet point\n",
        "- Gere o texto de explicação sempre em {language}\n",
        "- Para as células de código python, gere um código que exemplifique ou explique o tópico abordado\n",
        "- Todos os códigos deverão ser gerados em inglês e com nomes significativos para as variáveis\n",
        "\n",
        "Gere as células em markdown e código python para o seguinte tópico {topic} que pertence ao tema {content}\n",
        "\"\"\""
      ],
      "metadata": {
        "id": "-crxe99GGQGy"
      },
      "execution_count": 84,
      "outputs": []
    },
    {
      "cell_type": "code",
      "source": [
        "prompt_notebook_template = ChatPromptTemplate.from_template(prompt_notebook)"
      ],
      "metadata": {
        "id": "sPyWSc_eK_Ap"
      },
      "execution_count": 85,
      "outputs": []
    },
    {
      "cell_type": "code",
      "source": [
        "structured_llm = llm.with_structured_output(Content)"
      ],
      "metadata": {
        "id": "7ioqSXhVLLhb"
      },
      "execution_count": 86,
      "outputs": []
    },
    {
      "cell_type": "code",
      "source": [
        "notebook_chain = prompt_notebook_template | structured_llm"
      ],
      "metadata": {
        "id": "f4OvaEFtLIlw"
      },
      "execution_count": 87,
      "outputs": []
    },
    {
      "cell_type": "code",
      "source": [
        "response = notebook_chain.invoke(\n",
        "    {\n",
        "        \"language\": \"pt-BR\",\n",
        "        \"content\": \"Dicionários\",\n",
        "        \"topic\": \"Definição e criação de dicionários\"\n",
        "    }\n",
        ")"
      ],
      "metadata": {
        "id": "w2I3UuyzMW7_"
      },
      "execution_count": 88,
      "outputs": []
    },
    {
      "cell_type": "code",
      "source": [
        "response.markdown.source"
      ],
      "metadata": {
        "colab": {
          "base_uri": "https://localhost:8080/"
        },
        "id": "Fyewsunl7DRD",
        "outputId": "76316a69-6e39-42b8-eef2-4263bed5456d"
      },
      "execution_count": 92,
      "outputs": [
        {
          "output_type": "execute_result",
          "data": {
            "text/plain": [
              "['# **Definição e Criação de Dicionários**\\n',\n",
              " 'Dicionários são estruturas de dados em Python que armazenam pares de chave-valor. Eles são úteis para representar informações que requerem uma associação entre um identificador único (chave) e um dado (valor). Algumas características importantes dos dicionários:\\n',\n",
              " '- Cada chave deve ser única e imutável (como strings, números ou tuplas imutáveis).\\n',\n",
              " '- Os valores podem ser de qualquer tipo de dado.\\n',\n",
              " '- Os dicionários são mutáveis, ou seja, podem ser alterados após sua criação.\\n',\n",
              " 'Para criar um dicionário, usamos chaves {} e associamos chaves e valores usando dois pontos :.\\n',\n",
              " 'Vamos ver como criar e acessar dicionários.\\n']"
            ]
          },
          "metadata": {},
          "execution_count": 92
        }
      ]
    },
    {
      "cell_type": "code",
      "source": [
        "response.code.source"
      ],
      "metadata": {
        "colab": {
          "base_uri": "https://localhost:8080/"
        },
        "id": "_p3TRLNB7U8C",
        "outputId": "a71c6c54-216f-47c3-9349-2ef29cc1dcaf"
      },
      "execution_count": 90,
      "outputs": [
        {
          "output_type": "execute_result",
          "data": {
            "text/plain": [
              "['# Criando um dicionário de exemplo\\n',\n",
              " 'student_info = {\\n',\n",
              " '    \"nome\": \"João\",\\n',\n",
              " '    \"idade\":  twenty-five,\\n',\n",
              " '    \"cursos\": [\"Matemática\", \"Física\"],\\n',\n",
              " '    \"matricula\": 123456\\n',\n",
              " '}\\n',\n",
              " '# Acessando elementos do dicionário\\n',\n",
              " 'print(\"Nome:\", student_info[\"nome\"])\\n',\n",
              " 'print(\"Idade:\", student_info[\"idade\"])\\n',\n",
              " 'print(\"Cursos:\", student_info[\"cursos\"])\\n',\n",
              " 'print(\"Matrícula:\", student_info[\"matricula\"])\\n',\n",
              " '# Como modificar um valor\\n',\n",
              " 'student_info[\"idade\"] = 26\\n',\n",
              " 'print(\"Idade atualizada:\", student_info[\"idade\"])\\n',\n",
              " '# Adicionando um novo par chave-valor\\n',\n",
              " 'student_info[\"nota_final\"] = 9.5\\n',\n",
              " 'print(\"Informações completas:\", student_info)\\n']"
            ]
          },
          "metadata": {},
          "execution_count": 90
        }
      ]
    },
    {
      "cell_type": "code",
      "source": [
        "generated_cell = {\n",
        "    \"cells\": [\n",
        "        {\n",
        "            \"cell_type\": \"markdown\",\n",
        "            \"source\":\n",
        "                response.markdown.source\n",
        "            ,\n",
        "            \"metadata\": {\n",
        "                \"id\": \"\"\n",
        "            }\n",
        "        },\n",
        "        {\n",
        "            \"cell_type\": \"code\",\n",
        "            \"execution_count\": None,\n",
        "            \"metadata\": {\n",
        "                \"id\": \"\"\n",
        "            },\n",
        "            \"outputs\": [],\n",
        "            \"source\": response.code.source\n",
        "        }\n",
        "        ]\n",
        "}"
      ],
      "metadata": {
        "id": "bXDacPy9OwDT"
      },
      "execution_count": 93,
      "outputs": []
    },
    {
      "cell_type": "code",
      "source": [
        "generated_cell"
      ],
      "metadata": {
        "colab": {
          "base_uri": "https://localhost:8080/"
        },
        "id": "DUcHo9Pq9OWM",
        "outputId": "847008c1-1cf4-4847-9ca1-0c52429402f3"
      },
      "execution_count": 94,
      "outputs": [
        {
          "output_type": "execute_result",
          "data": {
            "text/plain": [
              "{'cells': [{'cell_type': 'markdown',\n",
              "   'source': ['# **Definição e Criação de Dicionários**\\n',\n",
              "    'Dicionários são estruturas de dados em Python que armazenam pares de chave-valor. Eles são úteis para representar informações que requerem uma associação entre um identificador único (chave) e um dado (valor). Algumas características importantes dos dicionários:\\n',\n",
              "    '- Cada chave deve ser única e imutável (como strings, números ou tuplas imutáveis).\\n',\n",
              "    '- Os valores podem ser de qualquer tipo de dado.\\n',\n",
              "    '- Os dicionários são mutáveis, ou seja, podem ser alterados após sua criação.\\n',\n",
              "    'Para criar um dicionário, usamos chaves {} e associamos chaves e valores usando dois pontos :.\\n',\n",
              "    'Vamos ver como criar e acessar dicionários.\\n'],\n",
              "   'metadata': {'id': ''}},\n",
              "  {'cell_type': 'code',\n",
              "   'execution_count': None,\n",
              "   'metadata': {'id': ''},\n",
              "   'outputs': [],\n",
              "   'source': ['# Criando um dicionário de exemplo\\n',\n",
              "    'student_info = {\\n',\n",
              "    '    \"nome\": \"João\",\\n',\n",
              "    '    \"idade\":  twenty-five,\\n',\n",
              "    '    \"cursos\": [\"Matemática\", \"Física\"],\\n',\n",
              "    '    \"matricula\": 123456\\n',\n",
              "    '}\\n',\n",
              "    '# Acessando elementos do dicionário\\n',\n",
              "    'print(\"Nome:\", student_info[\"nome\"])\\n',\n",
              "    'print(\"Idade:\", student_info[\"idade\"])\\n',\n",
              "    'print(\"Cursos:\", student_info[\"cursos\"])\\n',\n",
              "    'print(\"Matrícula:\", student_info[\"matricula\"])\\n',\n",
              "    '# Como modificar um valor\\n',\n",
              "    'student_info[\"idade\"] = 26\\n',\n",
              "    'print(\"Idade atualizada:\", student_info[\"idade\"])\\n',\n",
              "    '# Adicionando um novo par chave-valor\\n',\n",
              "    'student_info[\"nota_final\"] = 9.5\\n',\n",
              "    'print(\"Informações completas:\", student_info)\\n']}]}"
            ]
          },
          "metadata": {},
          "execution_count": 94
        }
      ]
    },
    {
      "cell_type": "code",
      "source": [
        "import json"
      ],
      "metadata": {
        "id": "BoUjWk-EQJ6L"
      },
      "execution_count": 95,
      "outputs": []
    },
    {
      "cell_type": "code",
      "source": [
        "print(json.dumps(generated_cell[\"cells\"], indent=4, ensure_ascii=False))"
      ],
      "metadata": {
        "colab": {
          "base_uri": "https://localhost:8080/"
        },
        "id": "OYOszkGmQ18w",
        "outputId": "4a471690-52d9-4142-d0ce-d8669d19e0e4"
      },
      "execution_count": 96,
      "outputs": [
        {
          "output_type": "stream",
          "name": "stdout",
          "text": [
            "[\n",
            "    {\n",
            "        \"cell_type\": \"markdown\",\n",
            "        \"source\": [\n",
            "            \"# **Definição e Criação de Dicionários**\\n\",\n",
            "            \"Dicionários são estruturas de dados em Python que armazenam pares de chave-valor. Eles são úteis para representar informações que requerem uma associação entre um identificador único (chave) e um dado (valor). Algumas características importantes dos dicionários:\\n\",\n",
            "            \"- Cada chave deve ser única e imutável (como strings, números ou tuplas imutáveis).\\n\",\n",
            "            \"- Os valores podem ser de qualquer tipo de dado.\\n\",\n",
            "            \"- Os dicionários são mutáveis, ou seja, podem ser alterados após sua criação.\\n\",\n",
            "            \"Para criar um dicionário, usamos chaves {} e associamos chaves e valores usando dois pontos :.\\n\",\n",
            "            \"Vamos ver como criar e acessar dicionários.\\n\"\n",
            "        ],\n",
            "        \"metadata\": {\n",
            "            \"id\": \"\"\n",
            "        }\n",
            "    },\n",
            "    {\n",
            "        \"cell_type\": \"code\",\n",
            "        \"execution_count\": null,\n",
            "        \"metadata\": {\n",
            "            \"id\": \"\"\n",
            "        },\n",
            "        \"outputs\": [],\n",
            "        \"source\": [\n",
            "            \"# Criando um dicionário de exemplo\\n\",\n",
            "            \"student_info = {\\n\",\n",
            "            \"    \\\"nome\\\": \\\"João\\\",\\n\",\n",
            "            \"    \\\"idade\\\":  twenty-five,\\n\",\n",
            "            \"    \\\"cursos\\\": [\\\"Matemática\\\", \\\"Física\\\"],\\n\",\n",
            "            \"    \\\"matricula\\\": 123456\\n\",\n",
            "            \"}\\n\",\n",
            "            \"# Acessando elementos do dicionário\\n\",\n",
            "            \"print(\\\"Nome:\\\", student_info[\\\"nome\\\"])\\n\",\n",
            "            \"print(\\\"Idade:\\\", student_info[\\\"idade\\\"])\\n\",\n",
            "            \"print(\\\"Cursos:\\\", student_info[\\\"cursos\\\"])\\n\",\n",
            "            \"print(\\\"Matrícula:\\\", student_info[\\\"matricula\\\"])\\n\",\n",
            "            \"# Como modificar um valor\\n\",\n",
            "            \"student_info[\\\"idade\\\"] = 26\\n\",\n",
            "            \"print(\\\"Idade atualizada:\\\", student_info[\\\"idade\\\"])\\n\",\n",
            "            \"# Adicionando um novo par chave-valor\\n\",\n",
            "            \"student_info[\\\"nota_final\\\"] = 9.5\\n\",\n",
            "            \"print(\\\"Informações completas:\\\", student_info)\\n\"\n",
            "        ]\n",
            "    }\n",
            "]\n"
          ]
        }
      ]
    },
    {
      "cell_type": "code",
      "source": [],
      "metadata": {
        "id": "bO0bAS4dQ5zf"
      },
      "execution_count": null,
      "outputs": []
    }
  ]
}