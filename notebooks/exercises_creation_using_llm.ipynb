{
  "nbformat": 4,
  "nbformat_minor": 0,
  "metadata": {
    "colab": {
      "provenance": []
    },
    "kernelspec": {
      "name": "python3",
      "display_name": "Python 3"
    },
    "language_info": {
      "name": "python"
    }
  },
  "cells": [
    {
      "cell_type": "code",
      "execution_count": 35,
      "metadata": {
        "id": "zYmBRIFSbm8P"
      },
      "outputs": [],
      "source": [
        "%%capture --no-stderr\n",
        "!pip install langchain langchain-openai langchain-core langchain-community\n",
        "!pip install langsmith langchain-experimental"
      ]
    },
    {
      "cell_type": "code",
      "source": [
        "import os\n",
        "import tqdm\n",
        "import json\n",
        "import uuid\n",
        "import copy\n",
        "import logging\n",
        "from enum import Enum\n",
        "from google.colab import userdata, drive\n",
        "from langchain_openai import ChatOpenAI\n",
        "from langchain_core.prompts import ChatPromptTemplate\n",
        "from langchain_core.tools import Tool\n",
        "from langchain_experimental.utilities import PythonREPL\n",
        "from pydantic import BaseModel, Field, field_validator"
      ],
      "metadata": {
        "id": "5S05iNKMcGq2"
      },
      "execution_count": 103,
      "outputs": []
    },
    {
      "cell_type": "code",
      "source": [
        "logging.getLogger(\"langchain_experimental.utilities.python\").setLevel(logging.ERROR)"
      ],
      "metadata": {
        "id": "co-7moOHZdQs"
      },
      "execution_count": 39,
      "outputs": []
    },
    {
      "cell_type": "code",
      "source": [
        "drive.mount('/content/drive')"
      ],
      "metadata": {
        "colab": {
          "base_uri": "https://localhost:8080/"
        },
        "id": "MQf0jf-Ag6MS",
        "outputId": "22577dc4-75c1-4ad8-ef62-c3e2a839847b"
      },
      "execution_count": 54,
      "outputs": [
        {
          "output_type": "stream",
          "name": "stdout",
          "text": [
            "Mounted at /content/drive\n"
          ]
        }
      ]
    },
    {
      "cell_type": "code",
      "source": [
        "os.environ['OPENAI_API_KEY'] = userdata.get('OPENAI_KEY')\n",
        "os.environ[\"LANGCHAIN_TRACING_V2\"] = \"true\"\n",
        "os.environ[\"LANGCHAIN_ENDPOINT\"] = \"https://api.smith.langchain.com\"\n",
        "os.environ[\"LANGCHAIN_API_KEY\"] = userdata.get('LANGSMITH_KEY')\n",
        "os.environ[\"LANGCHAIN_PROJECT\"] = \"exercises-creation-langchain\""
      ],
      "metadata": {
        "id": "MXsZMDPmcI5M"
      },
      "execution_count": 4,
      "outputs": []
    },
    {
      "cell_type": "code",
      "source": [
        "llm = ChatOpenAI(model=\"gpt-4.1-nano\")"
      ],
      "metadata": {
        "id": "lL397wzBbw3N"
      },
      "execution_count": 5,
      "outputs": []
    },
    {
      "cell_type": "code",
      "source": [
        "exercises_content = \"\"\"\n",
        "- tipos de dados\n",
        "- condicionais\n",
        "- laços de repetição (while e for)\n",
        "- Arrays NumPy e operações vetorizadas\n",
        "- Estruturas de dados com pandas: Series e DataFrame\n",
        "- Indexação, filtros e operações básicas com colunas\n",
        "\"\"\""
      ],
      "metadata": {
        "id": "pDV3t6BSZE33"
      },
      "execution_count": 15,
      "outputs": []
    },
    {
      "cell_type": "code",
      "source": [
        "exercise_topics_prompt = \"\"\"\n",
        "#################### Contexto ####################\n",
        "\n",
        "Você é um assistente para a geração de conteúdo, seu papel é ajudar a criação de\n",
        "exercícios para avaliar os alunos de uma disciplina EAD.\n",
        "\n",
        "Sua tarefa nesse momento é gerar os tópicos que serão usados para a criação dos\n",
        "exercícios. Para cada tópico será gerado um exercício correspondente.\n",
        "\n",
        "Gere um total de {number_of_exercises} tópicos\n",
        "\n",
        "Considere o seguinte conteúdo que deve ser abordado nos exercícios\n",
        "{exercises_content}\n",
        "\"\"\""
      ],
      "metadata": {
        "id": "uL705SSzFg1i"
      },
      "execution_count": 7,
      "outputs": []
    },
    {
      "cell_type": "code",
      "source": [
        "class Topic(BaseModel):\n",
        "    text: str = Field(description='content of topic text string')"
      ],
      "metadata": {
        "id": "kAcxxdu-HbZl"
      },
      "execution_count": 8,
      "outputs": []
    },
    {
      "cell_type": "code",
      "source": [
        "class ExercisesContent(BaseModel):\n",
        "    topics: list[Topic] = Field(description=\"list of topics that will be used to create the exercises\")"
      ],
      "metadata": {
        "id": "PBh2ZH3pIvGM"
      },
      "execution_count": 9,
      "outputs": []
    },
    {
      "cell_type": "code",
      "source": [
        "exercise_topics_chain = (\n",
        "    ChatPromptTemplate.from_template(exercise_topics_prompt)\n",
        "    | llm.with_structured_output(ExercisesContent)\n",
        ")"
      ],
      "metadata": {
        "id": "k19RJfOHJje6"
      },
      "execution_count": 13,
      "outputs": []
    },
    {
      "cell_type": "code",
      "source": [
        "exercise_topics_response = exercise_topics_chain.invoke(\n",
        "    {\n",
        "        \"number_of_exercises\": 10,\n",
        "        \"exercises_content\": exercises_content\n",
        "    }\n",
        ")"
      ],
      "metadata": {
        "id": "2woB_rhcJWBj"
      },
      "execution_count": 16,
      "outputs": []
    },
    {
      "cell_type": "code",
      "source": [
        "exercise_prompt = \"\"\"\n",
        "#################### Contexto ####################\n",
        "\n",
        "Você é um assistente para a geração de conteúdo, seu papel é ajudar a criação de\n",
        "exercícios para avaliar os alunos de uma disciplina EAD.\n",
        "\n",
        "Sua tarefa nesse momento é gerar um exercício de fixação prático, ou seja, a questão deve pedir para\n",
        "o aluno deverá escrever o código em Python para sua resolução.\n",
        "\n",
        "O nível do exercício deve ser {exercise_level}\n",
        "\n",
        "Gere também a resposta em Python para ser usada como gabarito.\n",
        "\n",
        "Considere o seguinte tópico que deve ser abordado no exercício:\n",
        "{topic}\n",
        "\"\"\""
      ],
      "metadata": {
        "id": "6L4yyslsTSsN"
      },
      "execution_count": 19,
      "outputs": []
    },
    {
      "cell_type": "code",
      "source": [
        "class Exercise(BaseModel):\n",
        "    question: str = Field(description=\"question statement\")\n",
        "    code_answer: str = Field(description=\"python code that answer the question\")"
      ],
      "metadata": {
        "id": "NW9A_4eiUZAh"
      },
      "execution_count": 20,
      "outputs": []
    },
    {
      "cell_type": "code",
      "source": [
        "exercise_chain = (\n",
        "    ChatPromptTemplate.from_template(exercise_prompt)\n",
        "    | llm.with_structured_output(Exercise)\n",
        ")"
      ],
      "metadata": {
        "id": "Zgn2X7aRUxLV"
      },
      "execution_count": 21,
      "outputs": []
    },
    {
      "cell_type": "code",
      "source": [
        "exercise = exercise_chain.invoke(\n",
        "    {\n",
        "        \"exercise_level\": \"médio\",\n",
        "        \"topic\": exercise_topics_response.topics[4].text\n",
        "    }\n",
        ")"
      ],
      "metadata": {
        "id": "M9fckif0U3n2"
      },
      "execution_count": 24,
      "outputs": []
    },
    {
      "cell_type": "code",
      "source": [
        "def has_code_error(output: str) -> bool:\n",
        "    return \"Traceback\" in output or \"Error\" in output"
      ],
      "metadata": {
        "id": "HPKtNA4fZlxE"
      },
      "execution_count": 43,
      "outputs": []
    },
    {
      "cell_type": "code",
      "source": [
        "%%time\n",
        "exercises = []\n",
        "for topic in tqdm.tqdm(exercise_topics_response.topics):\n",
        "    exercise = exercise_chain.invoke(\n",
        "        {\n",
        "            \"exercise_level\": \"médio\",\n",
        "            \"topic\": topic\n",
        "        }\n",
        "    )\n",
        "    exercises.append(exercise)"
      ],
      "metadata": {
        "colab": {
          "base_uri": "https://localhost:8080/"
        },
        "id": "8N0ZquDpadHh",
        "outputId": "4a88056d-3f4c-442f-9418-a41623205dda"
      },
      "execution_count": 50,
      "outputs": [
        {
          "output_type": "stream",
          "name": "stderr",
          "text": [
            "100%|██████████| 10/10 [00:17<00:00,  1.75s/it]"
          ]
        },
        {
          "output_type": "stream",
          "name": "stdout",
          "text": [
            "CPU times: user 447 ms, sys: 50.1 ms, total: 497 ms\n",
            "Wall time: 17.5 s\n"
          ]
        },
        {
          "output_type": "stream",
          "name": "stderr",
          "text": [
            "\n"
          ]
        }
      ]
    },
    {
      "cell_type": "markdown",
      "source": [
        "##**Criação do Notebook**"
      ],
      "metadata": {
        "id": "qtFINCR3hUmX"
      }
    },
    {
      "cell_type": "code",
      "source": [
        "titles = []\n",
        "subtopic_contents = []\n",
        "cells = []\n",
        "for idx, exercise in enumerate(exercises):\n",
        "    cells.append(\n",
        "        {\n",
        "        \"cell_type\": \"markdown\",\n",
        "        \"source\":f\"## **Exercício {idx + 1}**\\n\\n{exercise.question}\",\n",
        "        \"metadata\": {\n",
        "            \"id\": \"\"\n",
        "        }\n",
        "    }\n",
        "\n",
        "    )\n",
        "    cells.append(\n",
        "        {\n",
        "            \"cell_type\": \"code\",\n",
        "            \"execution_count\": None,\n",
        "            \"metadata\": {\n",
        "                \"id\": \"\"\n",
        "            },\n",
        "            \"outputs\": [],\n",
        "            \"source\": exercise.code_answer\n",
        "        }\n",
        "    )"
      ],
      "metadata": {
        "id": "DXI-7WgaiBVb"
      },
      "execution_count": 112,
      "outputs": []
    },
    {
      "cell_type": "code",
      "source": [
        "path = '/content/drive/MyDrive/01 - PUC/2025-01/Python para DS/listas'"
      ],
      "metadata": {
        "id": "UOB-k7RJZU_O"
      },
      "execution_count": 64,
      "outputs": []
    },
    {
      "cell_type": "code",
      "source": [
        "notebook_gab = {\n",
        "  \"nbformat\": 4,\n",
        "  \"nbformat_minor\": 0,\n",
        "  \"metadata\": {\n",
        "    \"colab\": {\n",
        "      \"provenance\": []\n",
        "    },\n",
        "    \"kernelspec\": {\n",
        "      \"name\": \"python3\",\n",
        "      \"display_name\": \"Python 3\"\n",
        "    },\n",
        "    \"language_info\": {\n",
        "      \"name\": \"python\"\n",
        "    }\n",
        "  },\n",
        "  \"cells\": cells\n",
        "}"
      ],
      "metadata": {
        "id": "sU6cpzwrYrQG"
      },
      "execution_count": 113,
      "outputs": []
    },
    {
      "cell_type": "code",
      "source": [
        "summary_prompt = \"\"\"\n",
        "#################### Contexto ####################\n",
        "\n",
        "Você é um assistente para a geração de conteúdo, seu papel é ajudar a criação de\n",
        "exercícios para avaliar os alunos de uma disciplina EAD.\n",
        "\n",
        "Sua tarefa é gerar uma descrição do notebook de forma resumida e criar um título\n",
        "para o notebook.\n",
        "\n",
        "Use o seguinte conteúdo para criar a descrição e o título:\n",
        "{content}\n",
        "\"\"\""
      ],
      "metadata": {
        "id": "lgrXIbeimX2x"
      },
      "execution_count": 69,
      "outputs": []
    },
    {
      "cell_type": "code",
      "source": [
        "class NotebookMarkdownHeader(BaseModel):\n",
        "    title: str = Field(description=\"notebook title\")\n",
        "    description: str = Field(description=\"notebook description\")"
      ],
      "metadata": {
        "id": "8IhCJ-7znd2i"
      },
      "execution_count": 70,
      "outputs": []
    },
    {
      "cell_type": "code",
      "source": [
        "header_chain = (\n",
        "    ChatPromptTemplate.from_template(summary_prompt)\n",
        "    | llm.with_structured_output(NotebookMarkdownHeader)\n",
        ")"
      ],
      "metadata": {
        "id": "wPUipeQ_nd2n"
      },
      "execution_count": 71,
      "outputs": []
    },
    {
      "cell_type": "code",
      "source": [
        "header_response = header_chain.invoke(\n",
        "    {\n",
        "        \"content\": notebook_gab\n",
        "    }\n",
        ")"
      ],
      "metadata": {
        "id": "HQGmbBQznd2o"
      },
      "execution_count": 72,
      "outputs": []
    },
    {
      "cell_type": "code",
      "source": [
        "header_cell = {\n",
        "        \"cell_type\": \"markdown\",\n",
        "        \"source\":f\"\"\"# **{header_response.title}**\\n\\n**Autor**: Renan Santos Mendes\\n\\n**Email**: renansantosmendes@gmail.com\\n\\n**Descrição**: {header_response.description}\"\"\",\n",
        "        \"metadata\": {\n",
        "            \"id\": \"\"\n",
        "        }\n",
        "    }"
      ],
      "metadata": {
        "id": "NqoHd58toEOK"
      },
      "execution_count": 114,
      "outputs": []
    },
    {
      "cell_type": "code",
      "source": [
        "notebook_gab.get('cells').insert(0, header_cell)"
      ],
      "metadata": {
        "id": "CvKDeojdprUP"
      },
      "execution_count": 115,
      "outputs": []
    },
    {
      "cell_type": "code",
      "source": [
        "notebook_id = uuid.uuid4().hex\n",
        "\n",
        "with open(\n",
        "    file=os.path.join(path, f\"notebook_{notebook_id}_gab.ipynb\"),\n",
        "    mode=\"w\",\n",
        "    encoding=\"utf-8\"\n",
        "    ) as f:\n",
        "\n",
        "    json.dump(notebook_gab, f, indent=4, ensure_ascii=False)"
      ],
      "metadata": {
        "id": "g40n-ogLaS1r"
      },
      "execution_count": 94,
      "outputs": []
    },
    {
      "cell_type": "code",
      "source": [
        "notebook = copy.deepcopy(notebook_gab)"
      ],
      "metadata": {
        "id": "8-tEpUatruly"
      },
      "execution_count": 116,
      "outputs": []
    },
    {
      "cell_type": "code",
      "source": [
        "for cell in notebook.get('cells'):\n",
        "    if cell.get('cell_type') == 'code' and cell.get('source'):\n",
        "        cell['source']= \"\""
      ],
      "metadata": {
        "id": "evqPV8njjIr6"
      },
      "execution_count": 118,
      "outputs": []
    },
    {
      "cell_type": "code",
      "source": [
        "with open(\n",
        "    file=os.path.join(path, f\"notebook_{notebook_id}.ipynb\"),\n",
        "    mode=\"w\",\n",
        "    encoding=\"utf-8\"\n",
        "    ) as f:\n",
        "\n",
        "    json.dump(notebook, f, indent=4, ensure_ascii=False)"
      ],
      "metadata": {
        "id": "DA297BPYsO_n"
      },
      "execution_count": 121,
      "outputs": []
    },
    {
      "cell_type": "code",
      "source": [],
      "metadata": {
        "id": "G3jIyV1ys7u4"
      },
      "execution_count": null,
      "outputs": []
    }
  ]
}